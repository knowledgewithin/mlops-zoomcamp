{
 "cells": [
  {
   "cell_type": "code",
   "execution_count": 1,
   "id": "c0217658-4869-4648-a26a-e5a298f0463d",
   "metadata": {},
   "outputs": [],
   "source": [
    "import pandas as pd"
   ]
  },
  {
   "cell_type": "code",
   "execution_count": 44,
   "id": "27fdc948-7a34-4ce7-8fb4-af061d528d66",
   "metadata": {},
   "outputs": [],
   "source": [
    "def read_dataframe(filename):\n",
    "    if filename.endswith('.csv'):\n",
    "        df = pd.read_csv(filename)\n",
    "\n",
    "        df.dropOff_datetime = pd.to_datetime(df.dropOff_datetime)\n",
    "        df.pickup_datetime = pd.to_datetime(df.pickup_datetime)\n",
    "    elif filename.endswith('.parquet'):\n",
    "        df = pd.read_parquet(filename)\n",
    "\n",
    "    df['duration'] = df.dropOff_datetime - df.pickup_datetime\n",
    "    df.duration = df.duration.apply(lambda td: td.total_seconds() / 60)\n",
    "\n",
    "    df = df[(df.duration >= 1) & (df.duration <= 60)]\n",
    "\n",
    "    categorical = ['PUlocationID', 'DOlocationID']\n",
    "    df[categorical] = df[categorical].astype(str)\n",
    "    \n",
    "    return df"
   ]
  },
  {
   "cell_type": "code",
   "execution_count": 43,
   "id": "a56d40de-66e4-46b6-a7b8-c2c1331a9460",
   "metadata": {},
   "outputs": [],
   "source": [
    "train = read_dataframe('/home/ubuntu/notebooks/data/fhv_tripdata_2021-01.parquet')\n",
    "test = read_dataframe('/home/ubuntu/notebooks/data/fhv_tripdata_2021-02.parquet')"
   ]
  },
  {
   "cell_type": "code",
   "execution_count": 45,
   "id": "11c41d3c-d692-4509-a7a2-1749e86b76de",
   "metadata": {},
   "outputs": [],
   "source": [
    "train[['PUlocationID', 'DOlocationID']] = train[['PUlocationID', 'DOlocationID']].fillna(-1)\n",
    "test[['PUlocationID', 'DOlocationID']] = test[['PUlocationID', 'DOlocationID']].fillna(-1)"
   ]
  },
  {
   "cell_type": "code",
   "execution_count": 35,
   "id": "90f63414-c4bb-4f1a-9bd6-18115bef047c",
   "metadata": {},
   "outputs": [],
   "source": [
    "from sklearn.feature_extraction import DictVectorizer\n",
    "from sklearn.linear_model import LinearRegression\n",
    "from sklearn.metrics import mean_squared_error"
   ]
  },
  {
   "cell_type": "code",
   "execution_count": 47,
   "id": "9cd9ca07-59e4-4ce7-bbd7-fa83d38ab0bf",
   "metadata": {},
   "outputs": [],
   "source": [
    "categorical = ['PUlocationID', 'DOlocationID']\n",
    "train_dicts = train[categorical].to_dict(orient='records')\n",
    "\n",
    "dv = DictVectorizer()\n",
    "X_train = dv.fit_transform(train_dicts)\n",
    "y_train = train['duration']"
   ]
  },
  {
   "cell_type": "code",
   "execution_count": 48,
   "id": "f70a9a86-6fa2-488c-a08a-152b4fd73f9f",
   "metadata": {},
   "outputs": [
    {
     "data": {
      "text/plain": [
       "10.52851910720509"
      ]
     },
     "execution_count": 48,
     "metadata": {},
     "output_type": "execute_result"
    }
   ],
   "source": [
    "lr = LinearRegression()\n",
    "lr.fit(X_train, y_train)\n",
    "\n",
    "y_pred = lr.predict(X_train)\n",
    "\n",
    "mean_squared_error(y_train, y_pred, squared=False)"
   ]
  },
  {
   "cell_type": "code",
   "execution_count": 49,
   "id": "f286ba5b-00ee-4458-a94d-c4b44b8be1b6",
   "metadata": {},
   "outputs": [],
   "source": [
    "test_dicts = test[categorical].to_dict(orient='records')\n",
    "X_test = dv.transform(test_dicts)\n",
    "y_test = test['duration']"
   ]
  },
  {
   "cell_type": "code",
   "execution_count": 50,
   "id": "40be380a-9e48-436b-b27a-dc1b562aff19",
   "metadata": {},
   "outputs": [
    {
     "data": {
      "text/plain": [
       "11.014283137918708"
      ]
     },
     "execution_count": 50,
     "metadata": {},
     "output_type": "execute_result"
    }
   ],
   "source": [
    "y_pred_test = lr.predict(X_test)\n",
    "\n",
    "mean_squared_error(y_test, y_pred_test, squared=False)"
   ]
  },
  {
   "cell_type": "code",
   "execution_count": null,
   "id": "c3ebea8c-c4bd-42b7-8c51-960cb1127cd0",
   "metadata": {},
   "outputs": [],
   "source": []
  }
 ],
 "metadata": {
  "kernelspec": {
   "display_name": "Python 3 (ipykernel)",
   "language": "python",
   "name": "python3"
  },
  "language_info": {
   "codemirror_mode": {
    "name": "ipython",
    "version": 3
   },
   "file_extension": ".py",
   "mimetype": "text/x-python",
   "name": "python",
   "nbconvert_exporter": "python",
   "pygments_lexer": "ipython3",
   "version": "3.9.12"
  }
 },
 "nbformat": 4,
 "nbformat_minor": 5
}
